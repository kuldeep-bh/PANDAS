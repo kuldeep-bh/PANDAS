{
 "cells": [
  {
   "cell_type": "code",
   "execution_count": null,
   "id": "da41ad4f-06e0-4b9e-a62b-10733e70a852",
   "metadata": {},
   "outputs": [],
   "source": [
    "#Determine if a given year is a leap year or not."
   ]
  },
  {
   "cell_type": "code",
   "execution_count": 4,
   "id": "8d5697f6-8f10-4611-9673-8d42fd42f3ef",
   "metadata": {},
   "outputs": [
    {
     "name": "stdin",
     "output_type": "stream",
     "text": [
      "enter the year 1997\n"
     ]
    },
    {
     "name": "stdout",
     "output_type": "stream",
     "text": [
      "not leap year\n"
     ]
    }
   ],
   "source": [
    "a = int(input(\"enter the year\"))\n",
    "if a%4==0:\n",
    "    print(\"leap year\")\n",
    "elif a%400==0:\n",
    "    print(\"leap year\")\n",
    "elif a%100==0:\n",
    "    print( \"not leap year\")\n",
    "else:\n",
    "    print(\"not leap year\")\n"
   ]
  },
  {
   "cell_type": "code",
   "execution_count": null,
   "id": "3c6912b6-5700-4286-a318-2eb057dda06e",
   "metadata": {},
   "outputs": [],
   "source": [
    "#. Check if a character is a vowel or consonant."
   ]
  },
  {
   "cell_type": "code",
   "execution_count": 15,
   "id": "a8b0ae55-99f7-4c40-93b7-c181a1cdd21e",
   "metadata": {},
   "outputs": [
    {
     "name": "stdin",
     "output_type": "stream",
     "text": [
      "enter the alphabet r\n"
     ]
    },
    {
     "name": "stdout",
     "output_type": "stream",
     "text": [
      "consonent\n"
     ]
    }
   ],
   "source": [
    "a = input(\"enter the alphabet\")\n",
    "if a in'aeiouAEIOU':\n",
    "    print(\"vovel\")\n",
    "else:\n",
    "    print(\"consonent\")"
   ]
  },
  {
   "cell_type": "code",
   "execution_count": null,
   "id": "df3726f1-fc13-4fae-95c3-a6e48952b36c",
   "metadata": {},
   "outputs": [],
   "source": [
    "#Write a program to check if a number is a single-digit number."
   ]
  },
  {
   "cell_type": "code",
   "execution_count": 19,
   "id": "f8d08656-9cfa-4cf0-983c-bae7d8d8e053",
   "metadata": {},
   "outputs": [
    {
     "name": "stdin",
     "output_type": "stream",
     "text": [
      "enter the number 4\n"
     ]
    },
    {
     "name": "stdout",
     "output_type": "stream",
     "text": [
      "single digit\n"
     ]
    }
   ],
   "source": [
    "a = int(input(\"enter the number\"))\n",
    "if -9 <= a <= 9:\n",
    "    print(\"single digit\")\n",
    "else:\n",
    "    print(\"not single digit\")"
   ]
  },
  {
   "cell_type": "code",
   "execution_count": null,
   "id": "5529fe82-9087-4fec-b3e1-233a78a4e2bd",
   "metadata": {},
   "outputs": [],
   "source": [
    "10. Print \"Good Morning\" if the time is before 12 PM, otherwise print \"Good\n",
    "Afternoon\"."
   ]
  },
  {
   "cell_type": "code",
   "execution_count": 27,
   "id": "a228f87f-9ef1-441e-9f9f-cce43aa05515",
   "metadata": {},
   "outputs": [
    {
     "name": "stdin",
     "output_type": "stream",
     "text": [
      "enter the time 4\n",
      "am am\n"
     ]
    },
    {
     "name": "stdout",
     "output_type": "stream",
     "text": [
      "good morning\n"
     ]
    }
   ],
   "source": [
    "time = int(input(\"enter the time\"))\n",
    "sd = input('am' or 'pm')\n",
    "if time <=12 and sd== 'am':\n",
    "    print(\"good morning\")\n",
    "else:\n",
    "    print(\"good afternoon\")"
   ]
  },
  {
   "cell_type": "code",
   "execution_count": null,
   "id": "44647e8b-9620-4a8c-beae-b6bc863f7e18",
   "metadata": {},
   "outputs": [],
   "source": [
    "1. Check if a string is empty or not."
   ]
  },
  {
   "cell_type": "code",
   "execution_count": 29,
   "id": "f81205ab-63c5-4945-86a1-6c27b6780adf",
   "metadata": {},
   "outputs": [
    {
     "name": "stdin",
     "output_type": "stream",
     "text": [
      "any value \n"
     ]
    },
    {
     "name": "stdout",
     "output_type": "stream",
     "text": [
      "empty\n"
     ]
    }
   ],
   "source": [
    "qw = input(str(\"any value\"))\n",
    "if qw== str():\n",
    "    print(\"empty\")\n",
    "else:\n",
    "    print(\"not empty\")"
   ]
  },
  {
   "cell_type": "code",
   "execution_count": 39,
   "id": "bd1f7865-6b19-49e9-9fd1-bfd7e533d810",
   "metadata": {},
   "outputs": [
    {
     "name": "stdin",
     "output_type": "stream",
     "text": [
      "enter the number 16\n"
     ]
    },
    {
     "name": "stdout",
     "output_type": "stream",
     "text": [
      "perfect square\n"
     ]
    }
   ],
   "source": [
    "import math \n",
    "square = int(input(\"enter the number\"))\n",
    "root = int(math.sqrt(square))\n",
    "if root*root==square:\n",
    "    print(\"perfect square\")\n",
    "else:\n",
    "    print(\"not perfect\")"
   ]
  },
  {
   "cell_type": "code",
   "execution_count": null,
   "id": "0789319f-4db6-412f-a73c-227fd728a861",
   "metadata": {},
   "outputs": [],
   "source": [
    "#Determine if a number is between 1 and 100"
   ]
  },
  {
   "cell_type": "code",
   "execution_count": 46,
   "id": "de6d4187-6fe7-4893-a56d-5cfaaa830cbc",
   "metadata": {},
   "outputs": [
    {
     "name": "stdin",
     "output_type": "stream",
     "text": [
      "enter the number -7\n"
     ]
    },
    {
     "name": "stdout",
     "output_type": "stream",
     "text": [
      "not\n"
     ]
    }
   ],
   "source": [
    "a =int(input(\"enter the number\"))\n",
    "if 1 <= a <=100:\n",
    "    print(\"present\")\n",
    "else:\n",
    "    print(\"not\")"
   ]
  },
  {
   "cell_type": "code",
   "execution_count": null,
   "id": "b2fee172-c92f-4348-9ca8-20e49f4a36e3",
   "metadata": {},
   "outputs": [],
   "source": [
    "14. Print \"Weekend\" if the day is Saturday or Sunday; otherwise, print \"Weekday\"."
   ]
  },
  {
   "cell_type": "code",
   "execution_count": 54,
   "id": "33ad0799-8f9a-4e2c-bfb3-48d2bad84718",
   "metadata": {},
   "outputs": [
    {
     "name": "stdin",
     "output_type": "stream",
     "text": [
      "enter the day tuesdsy\n"
     ]
    },
    {
     "name": "stdout",
     "output_type": "stream",
     "text": [
      "wwekdays\n"
     ]
    }
   ],
   "source": [
    "day = input(\"enter the day\")\n",
    "if day == \"saturday\" or day == \"sunday\":\n",
    "    print(\"weekend\")\n",
    "else:\n",
    "    print(\"wwekdays\")"
   ]
  },
  {
   "cell_type": "code",
   "execution_count": null,
   "id": "0b76e001-bbb3-4040-ba9a-761116e97758",
   "metadata": {},
   "outputs": [],
   "source": [
    ". Find if a given number is exactly divisible by both 3 and 7."
   ]
  },
  {
   "cell_type": "code",
   "execution_count": 57,
   "id": "83491df1-4c7e-4698-b8a1-5ad112b1a1cd",
   "metadata": {},
   "outputs": [
    {
     "name": "stdin",
     "output_type": "stream",
     "text": [
      "enter the number 97\n"
     ]
    },
    {
     "name": "stdout",
     "output_type": "stream",
     "text": [
      "not divisible\n"
     ]
    }
   ],
   "source": [
    "num = int(input(\"enter the number\"))\n",
    "if num%3==0 and num%7==0:\n",
    "    print(\"perfectly divisible\")\n",
    "else:\n",
    "    print(\"not divisible\")"
   ]
  },
  {
   "cell_type": "code",
   "execution_count": null,
   "id": "6cc966dd-5c69-4ff2-85d3-934db217bca6",
   "metadata": {},
   "outputs": [],
   "source": [
    "#. Determine if a given alphabet is uppercase or lowercase."
   ]
  },
  {
   "cell_type": "code",
   "execution_count": 61,
   "id": "9a6135f1-5b9f-4515-8023-2d3c7a386ba1",
   "metadata": {},
   "outputs": [
    {
     "name": "stdin",
     "output_type": "stream",
     "text": [
      "input alphabet R\n"
     ]
    },
    {
     "name": "stdout",
     "output_type": "stream",
     "text": [
      "uppercase\n"
     ]
    }
   ],
   "source": [
    "a = input(\"input alphabet\")\n",
    "if a.islower():\n",
    "    print(\"lowercase\")\n",
    "else:\n",
    "    print(\"uppercase\")"
   ]
  },
  {
   "cell_type": "code",
   "execution_count": null,
   "id": "ef6385b9-50ae-4821-89aa-9218e1d7c036",
   "metadata": {},
   "outputs": [],
   "source": [
    "Check if a triangle is valid given three side lengths (sum of any two sides must\n",
    "be greater than the third"
   ]
  },
  {
   "cell_type": "code",
   "execution_count": null,
   "id": "fa666115-52a5-4744-9996-bf52737ddfb7",
   "metadata": {},
   "outputs": [],
   "source": [
    "a= length \n",
    "b= width\n",
    "c= "
   ]
  },
  {
   "cell_type": "code",
   "execution_count": null,
   "id": "99b91762-04f5-4304-98a0-67534eb7a002",
   "metadata": {},
   "outputs": [],
   "source": []
  },
  {
   "cell_type": "code",
   "execution_count": null,
   "id": "91e8ae72-5cb6-45f2-ba51-525f0bdc5d26",
   "metadata": {},
   "outputs": [],
   "source": []
  },
  {
   "cell_type": "code",
   "execution_count": null,
   "id": "b6233abc-0301-4077-b8d7-33f8924314ff",
   "metadata": {},
   "outputs": [],
   "source": []
  },
  {
   "cell_type": "code",
   "execution_count": null,
   "id": "bdd1f295-bb5a-434e-bb73-77e66696f327",
   "metadata": {},
   "outputs": [],
   "source": []
  },
  {
   "cell_type": "code",
   "execution_count": null,
   "id": "294d69d8-79a6-4749-9c5b-75c81016a32d",
   "metadata": {},
   "outputs": [],
   "source": []
  },
  {
   "cell_type": "code",
   "execution_count": null,
   "id": "f4d39ebe-73ec-47d8-9c61-21eeee2be267",
   "metadata": {},
   "outputs": [],
   "source": []
  },
  {
   "cell_type": "code",
   "execution_count": null,
   "id": "59553a24-68c4-4c22-8f8b-520c000ae7e2",
   "metadata": {},
   "outputs": [],
   "source": []
  }
 ],
 "metadata": {
  "kernelspec": {
   "display_name": "Python [conda env:base] *",
   "language": "python",
   "name": "conda-base-py"
  },
  "language_info": {
   "codemirror_mode": {
    "name": "ipython",
    "version": 3
   },
   "file_extension": ".py",
   "mimetype": "text/x-python",
   "name": "python",
   "nbconvert_exporter": "python",
   "pygments_lexer": "ipython3",
   "version": "3.12.7"
  }
 },
 "nbformat": 4,
 "nbformat_minor": 5
}
